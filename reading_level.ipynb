{
 "cells": [
  {
   "cell_type": "markdown",
   "metadata": {},
   "source": [
    "# Flesch-Kincaid grade level score algorithm\n",
    "\n",
    "This an example algorithm from Discovering Computer Science book by Jessen\n",
    "Havill. This algorithm computes the grade level evaluation of any text."
   ]
  },
  {
   "cell_type": "code",
   "execution_count": 1,
   "metadata": {},
   "outputs": [],
   "source": [
    "text = open('part.txt', 'r')\n",
    "string = text.read().replace('\\n',' ')"
   ]
  },
  {
   "cell_type": "markdown",
   "metadata": {},
   "source": [
    "## Total number of words"
   ]
  },
  {
   "cell_type": "code",
   "execution_count": 2,
   "metadata": {},
   "outputs": [],
   "source": [
    "def word_splitter(string):\n",
    "    symbols = ['.',',','!','?',';',':']\n",
    "    clean_words = []\n",
    "    words = string.split()\n",
    "    for word in words:\n",
    "        for symbol in symbols:\n",
    "            word = word.replace(symbol,'')\n",
    "            word = word.lower()\n",
    "        clean_words.append(word)\n",
    "    return clean_words"
   ]
  },
  {
   "cell_type": "code",
   "execution_count": 3,
   "metadata": {},
   "outputs": [],
   "source": [
    "def word_number(string):\n",
    "    clean_words = word_splitter(string)\n",
    "    \n",
    "    return len(clean_words)"
   ]
  },
  {
   "cell_type": "markdown",
   "metadata": {},
   "source": [
    "## Average words per sentence"
   ]
  },
  {
   "cell_type": "code",
   "execution_count": 4,
   "metadata": {},
   "outputs": [],
   "source": [
    "def number_of_sentences(string):\n",
    "    symbols = ['!','?']\n",
    "    for symbol in symbols:\n",
    "        string = string.replace(symbol,'.')\n",
    "    sentences = string.split('. ')\n",
    "    return len(sentences)"
   ]
  },
  {
   "cell_type": "code",
   "execution_count": 5,
   "metadata": {},
   "outputs": [
    {
     "data": {
      "text/plain": [
       "8"
      ]
     },
     "execution_count": 5,
     "metadata": {},
     "output_type": "execute_result"
    }
   ],
   "source": [
    "sentences_count = number_of_sentences(string)\n",
    "sentences_count"
   ]
  },
  {
   "cell_type": "code",
   "execution_count": 6,
   "metadata": {},
   "outputs": [],
   "source": [
    "def words_per_sentence(string):\n",
    "    word_counts = word_number(string)\n",
    "    sentences_count = number_of_sentences(string)\n",
    "    return word_counts / sentences_count"
   ]
  },
  {
   "cell_type": "code",
   "execution_count": 7,
   "metadata": {},
   "outputs": [
    {
     "data": {
      "text/plain": [
       "28.875"
      ]
     },
     "execution_count": 7,
     "metadata": {},
     "output_type": "execute_result"
    }
   ],
   "source": [
    "av_word_count = words_per_sentence(string)\n",
    "av_word_count"
   ]
  },
  {
   "cell_type": "markdown",
   "metadata": {},
   "source": [
    "## Heuristic algorithm for counting syllables"
   ]
  },
  {
   "cell_type": "code",
   "execution_count": 8,
   "metadata": {},
   "outputs": [],
   "source": [
    "def syllable(word):\n",
    "    vowels = ['a','e','i','o','u','y']\n",
    "    syllable_count = 0\n",
    "    previous_letter = ''\n",
    "\n",
    "    for letter in word:\n",
    "        if letter in vowels and previous_letter not in vowels:\n",
    "            syllable_count += 1\n",
    "        previous_letter = letter\n",
    "\n",
    "    if syllable_count == 0 or (word.endswith('e') and word[-2] not in vowels):\n",
    "        syllable_count += 1\n",
    "\n",
    "    return syllable_count"
   ]
  },
  {
   "cell_type": "code",
   "execution_count": 9,
   "metadata": {},
   "outputs": [
    {
     "data": {
      "text/plain": [
       "3"
      ]
     },
     "execution_count": 9,
     "metadata": {},
     "output_type": "execute_result"
    }
   ],
   "source": [
    "syllables = syllable('basement')\n",
    "syllables"
   ]
  },
  {
   "cell_type": "code",
   "execution_count": 10,
   "metadata": {},
   "outputs": [],
   "source": [
    "def syllables_per_word(string):\n",
    "    words = word_splitter(string)\n",
    "    syllable_count = 0\n",
    "    for word in words:\n",
    "        syllable_count += syllable(word)\n",
    "    return syllable_count / len(words)"
   ]
  },
  {
   "cell_type": "code",
   "execution_count": 11,
   "metadata": {},
   "outputs": [
    {
     "data": {
      "text/plain": [
       "1.8354978354978355"
      ]
     },
     "execution_count": 11,
     "metadata": {},
     "output_type": "execute_result"
    }
   ],
   "source": [
    "average_syllables = syllables_per_word(string)\n",
    "average_syllables"
   ]
  },
  {
   "cell_type": "markdown",
   "metadata": {},
   "source": [
    "## Syllables library"
   ]
  },
  {
   "cell_type": "code",
   "execution_count": 12,
   "metadata": {},
   "outputs": [],
   "source": [
    "import syllables\n",
    "\n",
    "def syllables_per_word_library(string):\n",
    "    words = word_splitter(string)\n",
    "    syllable_count = 0\n",
    "    for word in words:\n",
    "        syllable_count += syllables.estimate(word)\n",
    "    return syllable_count / len(words)"
   ]
  },
  {
   "cell_type": "markdown",
   "metadata": {},
   "source": [
    "## Flesch-Kincaid algorithm"
   ]
  },
  {
   "cell_type": "code",
   "execution_count": 13,
   "metadata": {},
   "outputs": [],
   "source": [
    "def flesch_kincaid(string):\n",
    "    av_word_count = words_per_sentence(string)\n",
    "    average_syllables = syllables_per_word(string)\n",
    "    return 0.39 * av_word_count + 11.8 * average_syllables - 15.59"
   ]
  },
  {
   "cell_type": "code",
   "execution_count": 14,
   "metadata": {},
   "outputs": [],
   "source": [
    "def flesch_kincaid_library(string):\n",
    "    av_word_count = words_per_sentence(string)\n",
    "    average_syllables = syllables_per_word_library(string)\n",
    "    return 0.39 * av_word_count + 11.8 * average_syllables - 15.59"
   ]
  },
  {
   "cell_type": "code",
   "execution_count": 15,
   "metadata": {},
   "outputs": [
    {
     "data": {
      "text/plain": [
       "17.33012445887446"
      ]
     },
     "metadata": {},
     "output_type": "display_data"
    },
    {
     "data": {
      "text/plain": [
       "14.776011904761905"
      ]
     },
     "metadata": {},
     "output_type": "display_data"
    }
   ],
   "source": [
    "result = flesch_kincaid(string)\n",
    "\n",
    "result_lib = flesch_kincaid_library(string)\n",
    "\n",
    "display(result, result_lib)"
   ]
  }
 ],
 "metadata": {
  "kernelspec": {
   "display_name": "sds",
   "language": "python",
   "name": "python3"
  },
  "language_info": {
   "codemirror_mode": {
    "name": "ipython",
    "version": 3
   },
   "file_extension": ".py",
   "mimetype": "text/x-python",
   "name": "python",
   "nbconvert_exporter": "python",
   "pygments_lexer": "ipython3",
   "version": "3.12.3"
  }
 },
 "nbformat": 4,
 "nbformat_minor": 2
}
