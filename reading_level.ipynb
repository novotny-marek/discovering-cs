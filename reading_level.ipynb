{
 "cells": [
  {
   "cell_type": "markdown",
   "metadata": {},
   "source": [
    "# Flesch-Kincaid grade level score algorithm\n",
    "\n",
    "This an example algorithm from Discovering Computer Science book by Jessen\n",
    "Havill. This algorithm computes the grade level evaluation of any text."
   ]
  },
  {
   "cell_type": "code",
   "execution_count": 61,
   "metadata": {},
   "outputs": [],
   "source": [
    "text = open('part.txt', 'r')\n",
    "string = text.read().replace('\\n',' ')"
   ]
  },
  {
   "cell_type": "markdown",
   "metadata": {},
   "source": [
    "## Total number of words"
   ]
  },
  {
   "cell_type": "code",
   "execution_count": 63,
   "metadata": {},
   "outputs": [],
   "source": [
    "def word_splitter(string):\n",
    "    symbols = ['.',',','!','?',';',':']\n",
    "    clean_words = []\n",
    "    words = string.split()\n",
    "    for word in words:\n",
    "        for symbol in symbols:\n",
    "            word = word.replace(symbol,'')\n",
    "            word = word.lower()\n",
    "        clean_words.append(word)\n",
    "    return clean_words"
   ]
  },
  {
   "cell_type": "code",
   "execution_count": 64,
   "metadata": {},
   "outputs": [],
   "source": [
    "def word_number(string):\n",
    "    clean_words = word_splitter(string)\n",
    "    \n",
    "    return len(clean_words)"
   ]
  },
  {
   "cell_type": "code",
   "execution_count": 65,
   "metadata": {},
   "outputs": [
    {
     "data": {
      "text/plain": [
       "'The text contains 231 words'"
      ]
     },
     "metadata": {},
     "output_type": "display_data"
    },
    {
     "data": {
      "text/plain": [
       "['no',\n",
       " 'one',\n",
       " 'would',\n",
       " 'have',\n",
       " 'believed',\n",
       " 'in',\n",
       " 'the',\n",
       " 'last',\n",
       " 'years',\n",
       " 'of',\n",
       " 'the',\n",
       " 'nineteenth',\n",
       " 'century',\n",
       " 'that',\n",
       " 'this',\n",
       " 'world',\n",
       " 'was',\n",
       " 'being',\n",
       " 'watched',\n",
       " 'keenly',\n",
       " 'and',\n",
       " 'closely',\n",
       " 'by',\n",
       " 'intelligences',\n",
       " 'greater',\n",
       " 'than',\n",
       " 'man’s',\n",
       " 'and',\n",
       " 'yet',\n",
       " 'as',\n",
       " 'mortal',\n",
       " 'as',\n",
       " 'his',\n",
       " 'own',\n",
       " 'that',\n",
       " 'as',\n",
       " 'men',\n",
       " 'busied',\n",
       " 'themselves',\n",
       " 'about',\n",
       " 'their',\n",
       " 'various',\n",
       " 'concerns',\n",
       " 'they',\n",
       " 'were',\n",
       " 'scrutinised',\n",
       " 'and',\n",
       " 'studied',\n",
       " 'perhaps',\n",
       " 'almost',\n",
       " 'as',\n",
       " 'narrowly',\n",
       " 'as',\n",
       " 'a',\n",
       " 'man',\n",
       " 'with',\n",
       " 'a',\n",
       " 'microscope',\n",
       " 'might',\n",
       " 'scrutinise',\n",
       " 'the',\n",
       " 'transient',\n",
       " 'creatures',\n",
       " 'that',\n",
       " 'swarm',\n",
       " 'and',\n",
       " 'multiply',\n",
       " 'in',\n",
       " 'a',\n",
       " 'drop',\n",
       " 'of',\n",
       " 'water',\n",
       " 'with',\n",
       " 'infinite',\n",
       " 'complacency',\n",
       " 'men',\n",
       " 'went',\n",
       " 'to',\n",
       " 'and',\n",
       " 'fro',\n",
       " 'over',\n",
       " 'this',\n",
       " 'globe',\n",
       " 'about',\n",
       " 'their',\n",
       " 'little',\n",
       " 'affairs',\n",
       " 'serene',\n",
       " 'in',\n",
       " 'their',\n",
       " 'assurance',\n",
       " 'of',\n",
       " 'their',\n",
       " 'empire',\n",
       " 'over',\n",
       " 'matter',\n",
       " 'it',\n",
       " 'is',\n",
       " 'possible',\n",
       " 'that',\n",
       " 'the',\n",
       " 'infusoria',\n",
       " 'under',\n",
       " 'the',\n",
       " 'microscope',\n",
       " 'do',\n",
       " 'the',\n",
       " 'same',\n",
       " 'no',\n",
       " 'one',\n",
       " 'gave',\n",
       " 'a',\n",
       " 'thought',\n",
       " 'to',\n",
       " 'the',\n",
       " 'older',\n",
       " 'worlds',\n",
       " 'of',\n",
       " 'space',\n",
       " 'as',\n",
       " 'sources',\n",
       " 'of',\n",
       " 'human',\n",
       " 'danger',\n",
       " 'or',\n",
       " 'thought',\n",
       " 'of',\n",
       " 'them',\n",
       " 'only',\n",
       " 'to',\n",
       " 'dismiss',\n",
       " 'the',\n",
       " 'idea',\n",
       " 'of',\n",
       " 'life',\n",
       " 'upon',\n",
       " 'them',\n",
       " 'as',\n",
       " 'impossible',\n",
       " 'or',\n",
       " 'improbable',\n",
       " 'it',\n",
       " 'is',\n",
       " 'curious',\n",
       " 'to',\n",
       " 'recall',\n",
       " 'some',\n",
       " 'of',\n",
       " 'the',\n",
       " 'mental',\n",
       " 'habits',\n",
       " 'of',\n",
       " 'those',\n",
       " 'departed',\n",
       " 'days',\n",
       " 'at',\n",
       " 'most',\n",
       " 'terrestrial',\n",
       " 'men',\n",
       " 'fancied',\n",
       " 'there',\n",
       " 'might',\n",
       " 'be',\n",
       " 'other',\n",
       " 'men',\n",
       " 'upon',\n",
       " 'mars',\n",
       " 'perhaps',\n",
       " 'inferior',\n",
       " 'to',\n",
       " 'themselves',\n",
       " 'and',\n",
       " 'ready',\n",
       " 'to',\n",
       " 'welcome',\n",
       " 'a',\n",
       " 'missionary',\n",
       " 'enterprise',\n",
       " 'yet',\n",
       " 'across',\n",
       " 'the',\n",
       " 'gulf',\n",
       " 'of',\n",
       " 'space',\n",
       " 'minds',\n",
       " 'that',\n",
       " 'are',\n",
       " 'to',\n",
       " 'our',\n",
       " 'minds',\n",
       " 'as',\n",
       " 'ours',\n",
       " 'are',\n",
       " 'to',\n",
       " 'those',\n",
       " 'of',\n",
       " 'the',\n",
       " 'beasts',\n",
       " 'that',\n",
       " 'perish',\n",
       " 'intellects',\n",
       " 'vast',\n",
       " 'and',\n",
       " 'cool',\n",
       " 'and',\n",
       " 'unsympathetic',\n",
       " 'regarded',\n",
       " 'this',\n",
       " 'earth',\n",
       " 'with',\n",
       " 'envious',\n",
       " 'eyes',\n",
       " 'and',\n",
       " 'slowly',\n",
       " 'and',\n",
       " 'surely',\n",
       " 'drew',\n",
       " 'their',\n",
       " 'plans',\n",
       " 'against',\n",
       " 'us',\n",
       " 'and',\n",
       " 'early',\n",
       " 'in',\n",
       " 'the',\n",
       " 'twentieth',\n",
       " 'century',\n",
       " 'came',\n",
       " 'the',\n",
       " 'great',\n",
       " 'disillusionment']"
      ]
     },
     "metadata": {},
     "output_type": "display_data"
    }
   ],
   "source": [
    "words = word_splitter(string)\n",
    "number_of_words = word_number(string)\n",
    "\n",
    "comment = f'The text contains {number_of_words} words'\n",
    "display(comment)\n",
    "display(words)"
   ]
  },
  {
   "cell_type": "markdown",
   "metadata": {},
   "source": [
    "## Heuristic algorithm for counting syllables"
   ]
  },
  {
   "cell_type": "code",
   "execution_count": 73,
   "metadata": {},
   "outputs": [],
   "source": [
    "def syllable(word):\n",
    "    vowels = ['a','e','i','o','u','y']\n",
    "    syllable_count = 0\n",
    "    previous_letter = ''\n",
    "\n",
    "    for letter in word:\n",
    "        if letter in vowels and previous_letter not in vowels:\n",
    "            syllable_count += 1\n",
    "        previous_letter = letter\n",
    "\n",
    "    if syllable_count == 0 or (word.endswith('e') and word[-2] not in vowels):\n",
    "        syllable_count += 1\n",
    "\n",
    "    return syllable_count"
   ]
  },
  {
   "cell_type": "code",
   "execution_count": 77,
   "metadata": {},
   "outputs": [
    {
     "data": {
      "text/plain": [
       "3"
      ]
     },
     "execution_count": 77,
     "metadata": {},
     "output_type": "execute_result"
    }
   ],
   "source": [
    "syllables = syllable('basement')\n",
    "syllables"
   ]
  },
  {
   "cell_type": "code",
   "execution_count": 78,
   "metadata": {},
   "outputs": [],
   "source": [
    "def syllables_per_word(string):\n",
    "    words = word_splitter(string)\n",
    "    syllable_count = 0\n",
    "    for word in words:\n",
    "        syllable_count += syllable(word)\n",
    "    return syllable_count / len(words)"
   ]
  },
  {
   "cell_type": "code",
   "execution_count": 80,
   "metadata": {},
   "outputs": [
    {
     "data": {
      "text/plain": [
       "1.8354978354978355"
      ]
     },
     "execution_count": 80,
     "metadata": {},
     "output_type": "execute_result"
    }
   ],
   "source": [
    "average_syllables = syllables_per_word(string)\n",
    "average_syllables"
   ]
  }
 ],
 "metadata": {
  "kernelspec": {
   "display_name": "sds",
   "language": "python",
   "name": "python3"
  },
  "language_info": {
   "codemirror_mode": {
    "name": "ipython",
    "version": 3
   },
   "file_extension": ".py",
   "mimetype": "text/x-python",
   "name": "python",
   "nbconvert_exporter": "python",
   "pygments_lexer": "ipython3",
   "version": "3.11.6"
  }
 },
 "nbformat": 4,
 "nbformat_minor": 2
}
